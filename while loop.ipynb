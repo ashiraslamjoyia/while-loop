{
 "cells": [
  {
   "cell_type": "code",
   "execution_count": null,
   "id": "a9ea4dc1-4523-4b4f-a2a9-50f184e968c6",
   "metadata": {},
   "outputs": [
    {
     "name": "stdout",
     "output_type": "stream",
     "text": [
      "1\n",
      "2\n",
      "3\n",
      "4\n",
      "5\n",
      "6\n",
      "7\n",
      "8\n",
      "9\n",
      "10\n"
     ]
    }
   ],
   "source": [
    "##QUESTION NO 1    \n",
    "i=1\n",
    "while i<=10:\n",
    "    print(i)\n",
    "    i+=1\n",
    "    "
   ]
  },
  {
   "cell_type": "code",
   "execution_count": null,
   "id": "691e6ef3-e2b5-4497-9aff-eb5e29999c8c",
   "metadata": {},
   "outputs": [
    {
     "name": "stdout",
     "output_type": "stream",
     "text": [
      "2\n",
      "4\n",
      "6\n",
      "8\n",
      "10\n",
      "12\n",
      "14\n",
      "16\n",
      "18\n",
      "20\n"
     ]
    }
   ],
   "source": [
    "## Question NO 2  \n",
    "a=1\n",
    "while a<=20:\n",
    "    if a % 2==0:\n",
    "        print(a)\n",
    "    a+=1"
   ]
  },
  {
   "cell_type": "code",
   "execution_count": null,
   "id": "90d8b925-ea14-4c1a-b2d6-2132c180c677",
   "metadata": {},
   "outputs": [
    {
     "name": "stdout",
     "output_type": "stream",
     "text": [
      "1 2 3 4 5 6 7 8 9 10 \n",
      "The sum of the first 10 natural numbers is: 55\n"
     ]
    }
   ],
   "source": [
    "## QUESTION NO 3    \n",
    "n = 1        \n",
    "sum = 0      \n",
    "\n",
    "while n <= 10:\n",
    "    print(n,end=' ')\n",
    "    sum += n    \n",
    "    n += 1      \n",
    "print(\"\\nThe sum of the first 10 natural numbers is:\", sum)"
   ]
  },
  {
   "cell_type": "code",
   "execution_count": null,
   "id": "9c2af1d6-2965-4654-b20a-49d324c07f83",
   "metadata": {},
   "outputs": [
    {
     "name": "stdout",
     "output_type": "stream",
     "text": [
      "Enter a number or enter negative number to exit:  22\n",
      "Enter a number or enter negative number to exit:  34\n",
      "Enter a number or enter negative number to exit:  2\n",
      "Enter a number or enter negative number to exit:  -1\n"
     ]
    },
    {
     "name": "stdout",
     "output_type": "stream",
     "text": [
      "The total sum of the numbers entered  58\n"
     ]
    }
   ],
   "source": [
    "## QUESTION NO 4   \n",
    "sum = 0\n",
    "while True:\n",
    "    num=int(input(\"Enter a number or enter negative number to exit: \"))\n",
    "    if num < 0:\n",
    "        break\n",
    "    sum+=num\n",
    "print(\"The total sum of the numbers entered \",sum)"
   ]
  },
  {
   "cell_type": "code",
   "execution_count": null,
   "id": "a2085455-8465-4a85-a204-7c8548a104c2",
   "metadata": {},
   "outputs": [
    {
     "name": "stdout",
     "output_type": "stream",
     "text": [
      "Guess a number b/w 1 and 100 or enter exit to end game:  23\n"
     ]
    },
    {
     "name": "stdout",
     "output_type": "stream",
     "text": [
      "Too low!\n"
     ]
    },
    {
     "name": "stdout",
     "output_type": "stream",
     "text": [
      "Guess a number b/w 1 and 100 or enter exit to end game:  54\n"
     ]
    },
    {
     "name": "stdout",
     "output_type": "stream",
     "text": [
      "Too high!\n"
     ]
    },
    {
     "name": "stdout",
     "output_type": "stream",
     "text": [
      "Guess a number b/w 1 and 100 or enter exit to end game:  33\n"
     ]
    },
    {
     "name": "stdout",
     "output_type": "stream",
     "text": [
      "Too low!\n"
     ]
    },
    {
     "name": "stdout",
     "output_type": "stream",
     "text": [
      "Guess a number b/w 1 and 100 or enter exit to end game:  42\n"
     ]
    },
    {
     "name": "stdout",
     "output_type": "stream",
     "text": [
      "You guessed it right.\n"
     ]
    }
   ],
   "source": [
    "## QUESTION NO 5  \n",
    "num='42'  \n",
    "guess = 0\n",
    "while guess != num:\n",
    "    guess= input(\"Guess a number b/w 1 and 100 or enter exit to end game: \")\n",
    "    if guess.lower()=='exit':\n",
    "        print(\"Game end succesfully\")\n",
    "        break\n",
    "    elif guess < num:\n",
    "        print(\"Too low!\")\n",
    "    elif guess > num:\n",
    "        print(\"Too high!\")\n",
    "    else:\n",
    "        print(\"You guessed it right.\")"
   ]
  },
  {
   "cell_type": "code",
   "execution_count": null,
   "id": "5e3e3abf-0365-4d47-810e-ac3156d491af",
   "metadata": {},
   "outputs": [
    {
     "name": "stdout",
     "output_type": "stream",
     "text": [
      "Enter a positive integer:  4\n"
     ]
    },
    {
     "name": "stdout",
     "output_type": "stream",
     "text": [
      "Factorial: 24\n"
     ]
    }
   ],
   "source": [
    "## QUESTION NO 6  \n",
    "num = int(input(\"Enter a positive integer: \"))\n",
    "factorial=1\n",
    "x=1\n",
    "while x <= num:\n",
    "    factorial *= x\n",
    "    x+=1\n",
    "print(\"Factorial:\", factorial)"
   ]
  },
  {
   "cell_type": "code",
   "execution_count": null,
   "id": "6d85dc2e-fcbb-4860-ba5a-880c108f7304",
   "metadata": {},
   "outputs": [
    {
     "name": "stdout",
     "output_type": "stream",
     "text": [
      "Enter a number or('done' to calculate average):  3\n",
      "Enter a number or('done' to calculate average):  4\n",
      "Enter a number or('done' to calculate average):  2\n",
      "Enter a number or('done' to calculate average):  4\n",
      "Enter a number or('done' to calculate average):  done\n"
     ]
    },
    {
     "name": "stdout",
     "output_type": "stream",
     "text": [
      "Average: 3.25\n"
     ]
    }
   ],
   "source": [
    "## QUESTION NO 7  \n",
    "total=0\n",
    "count=0\n",
    "while True:\n",
    "    num = input(\"Enter a number or('done' to calculate average): \")\n",
    "    if num.lower()== \"done\":\n",
    "        break\n",
    "    total+=float(num)\n",
    "    count += 1\n",
    "print(\"Average:\", total / count )"
   ]
  },
  {
   "cell_type": "code",
   "execution_count": null,
   "id": "780692a3-9f67-4e9c-b1d8-8c39c377e8a1",
   "metadata": {},
   "outputs": [
    {
     "name": "stdout",
     "output_type": "stream",
     "text": [
      "Enter a number: 10\n"
     ]
    },
    {
     "name": "stdout",
     "output_type": "stream",
     "text": [
      "0 1 1 2 3 5 8 "
     ]
    }
   ],
   "source": [
    "## QUESTION NO 8  \n",
    "n = int(input(\"Enter a number:\"))\n",
    "a=0\n",
    "b=1\n",
    "while a <= n:\n",
    "    print(a, end=\" \")\n",
    "    a, b = b, a + b"
   ]
  }
 ],
 "metadata": {
  "kernelspec": {
   "display_name": "Python 3 (ipykernel)",
   "language": "python",
   "name": "python3"
  },
  "language_info": {
   "codemirror_mode": {
    "name": "ipython",
    "version": 3
   },
   "file_extension": ".py",
   "mimetype": "text/x-python",
   "name": "python",
   "nbconvert_exporter": "python",
   "pygments_lexer": "ipython3",
   "version": "3.12.4"
  }
 },
 "nbformat": 4,
 "nbformat_minor": 5
}
